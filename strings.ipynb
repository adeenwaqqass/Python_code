{
 "cells": [
  {
   "cell_type": "code",
   "execution_count": 9,
   "metadata": {},
   "outputs": [
    {
     "name": "stdout",
     "output_type": "stream",
     "text": [
      "9\n"
     ]
    }
   ],
   "source": [
    "# program to find largest no in a list\n",
    "\n",
    "x = int(input(\"Enter Numbers for calculating average\"))\n",
    "y = []\n",
    "\n",
    "for i in range(0,x):\n",
    "    elem = int(input(\"enter elements\"))\n",
    "    y.append(elem)\n",
    "    y.sort()\n",
    "    \n",
    "print(y[-1])"
   ]
  },
  {
   "cell_type": "code",
   "execution_count": 4,
   "metadata": {},
   "outputs": [
    {
     "name": "stdout",
     "output_type": "stream",
     "text": [
      "This is not a leap year\n"
     ]
    }
   ],
   "source": [
    "# Program to check whether a given year is a leap year or not.\n",
    "\n",
    "a = int(input(\"Enter year to check weather it is a leap year or not : \"))\n",
    "if(a%4==0 and a%100!=0 or a%100==0):\n",
    "    print(\"This is leap year\")\n",
    "else:\n",
    "    print(\"This is not a leap year\")"
   ]
  },
  {
   "cell_type": "code",
   "execution_count": 2,
   "metadata": {},
   "outputs": [
    {
     "name": "stdout",
     "output_type": "stream",
     "text": [
      "Enter range ind those numbers which are divisible by 7 and multiple of 5 in a given range of numbers\n",
      "35\n",
      "70\n"
     ]
    }
   ],
   "source": [
    "# Program to find those numbers which are divisible by 7 and multiple of 5 in a given range of numbers.\n",
    "\n",
    "print(\"Enter range ind those numbers which are divisible by 7 and multiple of 5 in a given range of numbers\")\n",
    "a = int(input(\"From : \"))\n",
    "b = int(input(\"upto : \"))\n",
    "\n",
    "for i in range(a,b+1):\n",
    "    if (i%7==0 and i%5==0):\n",
    "        print(i)"
   ]
  },
  {
   "cell_type": "code",
   "execution_count": 1,
   "metadata": {},
   "outputs": [
    {
     "name": "stdout",
     "output_type": "stream",
     "text": [
      "104.0\n"
     ]
    }
   ],
   "source": [
    "# Program to take the temperature in Celsius and convert it to Fahrenheit.\n",
    "\n",
    "a = int(input(\"Enter temprature in celsius : \"))\n",
    "\n",
    "i = (a*9/5)+32\n",
    "print (i)"
   ]
  },
  {
   "cell_type": "code",
   "execution_count": 5,
   "metadata": {},
   "outputs": [
    {
     "name": "stdout",
     "output_type": "stream",
     "text": [
      "2 X 1 = 2\n",
      "2 X 2 = 4\n",
      "2 X 3 = 6\n",
      "2 X 4 = 8\n",
      "2 X 5 = 10\n",
      "2 X 6 = 12\n",
      "2 X 7 = 14\n",
      "2 X 8 = 16\n",
      "2 X 9 = 18\n",
      "2 X 10 = 20\n"
     ]
    }
   ],
   "source": [
    "# Program to Print Table of a Given Number\n",
    "\n",
    "x = int(input(\"Enter the number to get its Multiplication Table : \"))\n",
    " \n",
    "for i in range(1,11):\n",
    "    print(x, \"X\", i , \"=\" , x*i)\n",
    "\n"
   ]
  },
  {
   "cell_type": "code",
   "execution_count": 16,
   "metadata": {},
   "outputs": [
    {
     "name": "stdout",
     "output_type": "stream",
     "text": [
      "212.0 Farenhite\n"
     ]
    }
   ],
   "source": [
    "# program to convert temprature \n",
    "t = (input(\"Enter temprature : \"))\n",
    "a = int(t[:-1])\n",
    "\n",
    "c = t[-1]\n",
    "\n",
    "if c.upper()==\"F\":\n",
    "    result = (a-32*5/9)\n",
    "    b = \"Celcius\"\n",
    "elif c.upper()==\"C\":\n",
    "    result = (a*9/5)+32\n",
    "    b = \"Farenhite\"\n",
    "else:\n",
    "    print(\"please enter Surfix(C/F)\")        \n",
    "    quit ()\n",
    "\n",
    "print(result,b) "
   ]
  },
  {
   "cell_type": "code",
   "execution_count": 62,
   "metadata": {},
   "outputs": [
    {
     "ename": "TypeError",
     "evalue": "'float' object cannot be interpreted as an integer",
     "output_type": "error",
     "traceback": [
      "\u001b[0;31m---------------------------------------------------------------------------\u001b[0m",
      "\u001b[0;31mTypeError\u001b[0m                                 Traceback (most recent call last)",
      "\u001b[1;32m/home/adeen/Desktop/Python/strings.ipynb Cell 7'\u001b[0m in \u001b[0;36m<cell line: 7>\u001b[0;34m()\u001b[0m\n\u001b[1;32m      <a href='vscode-notebook-cell:/home/adeen/Desktop/Python/strings.ipynb#ch0000006?line=2'>3</a>\u001b[0m count \u001b[39m=\u001b[39m \u001b[39m0\u001b[39m\n\u001b[1;32m      <a href='vscode-notebook-cell:/home/adeen/Desktop/Python/strings.ipynb#ch0000006?line=4'>5</a>\u001b[0m a\u001b[39m=\u001b[39m\u001b[39mfloat\u001b[39m(\u001b[39minput\u001b[39m(\u001b[39m\"\u001b[39m\u001b[39mEnter number : \u001b[39m\u001b[39m\"\u001b[39m))\n\u001b[0;32m----> <a href='vscode-notebook-cell:/home/adeen/Desktop/Python/strings.ipynb#ch0000006?line=6'>7</a>\u001b[0m b \u001b[39m=\u001b[39m (\u001b[39mbin\u001b[39;49m(a))\n\u001b[1;32m      <a href='vscode-notebook-cell:/home/adeen/Desktop/Python/strings.ipynb#ch0000006?line=7'>8</a>\u001b[0m \u001b[39mprint\u001b[39m(b)\n",
      "\u001b[0;31mTypeError\u001b[0m: 'float' object cannot be interpreted as an integer"
     ]
    }
   ],
   "source": [
    "# program to count set bits in a number.\n",
    "\n",
    "count = 0\n",
    "\n",
    "a = (input(\"Enter number : \"))\n",
    "\n",
    "b = (bin(a))\n",
    "print(b)\n",
    "for i in n\n",
    "i &= i - 1\n",
    "        count += 1\n",
    "    return count\n",
    "print (i)"
   ]
  },
  {
   "cell_type": "code",
   "execution_count": 65,
   "metadata": {},
   "outputs": [
    {
     "name": "stdout",
     "output_type": "stream",
     "text": [
      "\n",
      "*\n",
      "**\n",
      "***\n",
      "****"
     ]
    }
   ],
   "source": [
    "n = int(input(\"Enter the number of rows you want to print?\"))  \n",
    "row,column=0,0  \n",
    "for row in range(0,n+1):  \n",
    "    print()  \n",
    "    for column in range(0,row+1):  \n",
    "        print(\"*\",end=\"\")  "
   ]
  },
  {
   "cell_type": "code",
   "execution_count": 75,
   "metadata": {},
   "outputs": [
    {
     "name": "stdout",
     "output_type": "stream",
     "text": [
      "Hello, Albert. have a nice day\n"
     ]
    }
   ],
   "source": [
    "def greet(name):\n",
    "\n",
    "    print(\"Hello, \" + name + \". have a nice day\")\n",
    "\n",
    "greet('Albert')"
   ]
  }
 ],
 "metadata": {
  "interpreter": {
   "hash": "916dbcbb3f70747c44a77c7bcd40155683ae19c65e1c03b4aa3499c5328201f1"
  },
  "kernelspec": {
   "display_name": "Python 3.8.10 64-bit",
   "language": "python",
   "name": "python3"
  },
  "language_info": {
   "codemirror_mode": {
    "name": "ipython",
    "version": 3
   },
   "file_extension": ".py",
   "mimetype": "text/x-python",
   "name": "python",
   "nbconvert_exporter": "python",
   "pygments_lexer": "ipython3",
   "version": "3.8.10"
  },
  "orig_nbformat": 4
 },
 "nbformat": 4,
 "nbformat_minor": 2
}
